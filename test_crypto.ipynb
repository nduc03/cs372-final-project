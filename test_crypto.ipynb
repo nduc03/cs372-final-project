{
 "cells": [
  {
   "cell_type": "code",
   "execution_count": null,
   "id": "98f3fefd",
   "metadata": {},
   "outputs": [],
   "source": [
    "%pip install matplotlib numpy pycryptodome"
   ]
  },
  {
   "cell_type": "code",
   "execution_count": null,
   "id": "158b7294",
   "metadata": {},
   "outputs": [],
   "source": [
    "target_size_bytes= 1 * 1024 * 1024 * 1024  # 1GB\n",
    "filename = 'large_file.txt'\n",
    "\n",
    "line_content = '1' * 60 + '\\n'  # 61 bytes mỗi dòng (60 ký tự + newline)\n",
    "line_bytes = len(line_content.encode('utf-8'))  # Đảm bảo theo UTF-8\n",
    "\n",
    "total_lines = target_size_bytes // line_bytes  # Số dòng cần tạo\n",
    "\n",
    "with open(filename, 'w', encoding='utf-8') as f:\n",
    "    for _ in range(total_lines):\n",
    "        f.write(line_content)\n",
    "\n",
    "print(f\"File '{filename}' đã được tạo với {total_lines} dòng (~1GB).\")"
   ]
  },
  {
   "cell_type": "code",
   "execution_count": null,
   "id": "2057402c",
   "metadata": {},
   "outputs": [],
   "source": [
    "from Crypto.Cipher import AES\n",
    "from Crypto.Random import get_random_bytes\n",
    "from Crypto.Util.Padding import pad, unpad"
   ]
  },
  {
   "cell_type": "code",
   "execution_count": null,
   "id": "6ac65052",
   "metadata": {},
   "outputs": [],
   "source": [
    "data = b'0123456789abcdef'\n",
    "while len(data) < AES.block_size:\n",
    "    data += data[-16]\n",
    "\n",
    "print(AES.block_size)\n",
    "print(data)\n",
    "print(pad(data, AES.block_size))"
   ]
  },
  {
   "cell_type": "code",
   "execution_count": null,
   "id": "efcc71b8",
   "metadata": {},
   "outputs": [],
   "source": [
    "KEY_128 = 16\n",
    "KEY_192 = 24\n",
    "KEY_256 = 32\n",
    "\n",
    "key = get_random_bytes(KEY_128)\n",
    "\n",
    "key.hex()"
   ]
  },
  {
   "cell_type": "code",
   "execution_count": null,
   "id": "28ae9e3d",
   "metadata": {},
   "outputs": [],
   "source": [
    "cipher_cbc = AES.new(key, AES.MODE_CBC)\n",
    "iv = cipher_cbc.iv\n",
    "iv.hex()"
   ]
  },
  {
   "cell_type": "markdown",
   "id": "da8cd6c5",
   "metadata": {},
   "source": [
    "### test `pycryptodome` library"
   ]
  },
  {
   "cell_type": "markdown",
   "id": "e0729b0a",
   "metadata": {},
   "source": [
    "#### AES (Rijndael)"
   ]
  },
  {
   "cell_type": "markdown",
   "id": "ff002a25",
   "metadata": {},
   "source": [
    "use mode CTR, reasons:\n",
    "- fast\n",
    "- stream friendly, no padding\n",
    "- no need AEAD for pure benchmarking"
   ]
  },
  {
   "cell_type": "markdown",
   "id": "6b80109d",
   "metadata": {},
   "source": [
    "TODO:\n",
    "-  maybe test more with GCM mode"
   ]
  },
  {
   "cell_type": "markdown",
   "id": "df7a5a80",
   "metadata": {},
   "source": [
    "Test with file 1GB"
   ]
  },
  {
   "cell_type": "code",
   "execution_count": null,
   "id": "8db6418e",
   "metadata": {},
   "outputs": [],
   "source": [
    "import timeit, os"
   ]
  },
  {
   "cell_type": "code",
   "execution_count": null,
   "id": "14dd366b",
   "metadata": {},
   "outputs": [],
   "source": [
    "use_aesni = True\n",
    "chunk_MB = 100\n",
    "cipher_file = AES.new(key, AES.MODE_CTR, use_aesni=use_aesni)\n",
    "nonce_file = cipher_file.nonce\n",
    "# assert len(nonce_file) == 16\n",
    "\n",
    "if os.path.exists('large_file_encrypted.bin'):\n",
    "    os.remove('large_file_encrypted.bin')\n",
    "\n",
    "with open('large_file.txt', 'rb') as f, open('large_file_encrypted.bin', 'wb') as enc_f:\n",
    "    t1 = timeit.default_timer()\n",
    "    while file_data := f.read(chunk_MB * 1024 * 1024):\n",
    "        enc_f.write(cipher_file.encrypt(file_data))\n",
    "    t2 = timeit.default_timer()\n",
    "\n",
    "tag = cipher_file.digest()\n",
    "print(f'Use AES-NI: {use_aesni}')\n",
    "print(f'Chunk size: {chunk_MB} MB')\n",
    "print(f\"Nonce: {nonce_file.hex()}\")\n",
    "print(f\"Tag: {tag.hex()}\")\n",
    "print(f\"Encryption Time: {t2 - t1} seconds\")\n",
    "print(f'Throughput = {os.path.getsize(\"large_file_encrypted.bin\") / (t2 - t1) / (1024 * 1024):.2f} MB/s')"
   ]
  },
  {
   "cell_type": "code",
   "execution_count": null,
   "id": "b1f79585",
   "metadata": {},
   "outputs": [],
   "source": [
    "decipher_file = AES.new(key, AES.MODE_CTR, nonce=nonce_file)\n",
    "\n",
    "with open('large_file_encrypted.bin', 'rb') as enc_f, open(os.devnull, 'wb') as dec_f:\n",
    "    t1 = timeit.default_timer()\n",
    "    while enc_data := enc_f.read(1024 * 1024):  # 1MB\n",
    "        dec_f.write(decipher_file.decrypt(enc_data))\n",
    "    t2 = timeit.default_timer()\n",
    "\n",
    "# try:\n",
    "#     decipher_file.verify(tag)\n",
    "#     print(\"Decryption successful, tag verified.\")\n",
    "# except ValueError:\n",
    "#     print(\"Decryption failed, tag verification error.\")\n",
    "\n",
    "print(f\"Decryption Time: {t2 - t1} seconds\")"
   ]
  },
  {
   "cell_type": "markdown",
   "id": "9f31d29b",
   "metadata": {},
   "source": [
    "test in memory"
   ]
  },
  {
   "cell_type": "code",
   "execution_count": null,
   "id": "a3227cca",
   "metadata": {},
   "outputs": [],
   "source": [
    "use_aesni = True\n",
    "cipher_in_mem = AES.new(key, AES.MODE_CTR, use_aesni=use_aesni)\n",
    "\n",
    "data = b\"\\x01\" * (1024 * 1024 * 1024)\n",
    "\n",
    "exec_time = timeit.timeit(lambda: cipher_in_mem.encrypt(data), number=1)\n",
    "\n",
    "print(f'Use AES-NI: {use_aesni}')\n",
    "print(f\"Nonce: {cipher_in_mem.nonce.hex()}\")\n",
    "# print(f\"Tag: {cipher_in_mem.tag.hex()}\")\n",
    "print(f\"Encryption Time: {exec_time} seconds\")\n",
    "print(f'Throughput = {len(data) / (exec_time) / (1024 * 1024):.2f} MB/s')"
   ]
  },
  {
   "cell_type": "markdown",
   "id": "549249a3",
   "metadata": {},
   "source": [
    "### test `cryptography` lib"
   ]
  },
  {
   "cell_type": "code",
   "execution_count": null,
   "id": "4aa4e2c9",
   "metadata": {},
   "outputs": [],
   "source": [
    "%pip install cryptography"
   ]
  },
  {
   "cell_type": "markdown",
   "id": "28ceb2f4",
   "metadata": {},
   "source": [
    "in memory"
   ]
  },
  {
   "cell_type": "code",
   "execution_count": 3,
   "id": "5400c42e",
   "metadata": {},
   "outputs": [],
   "source": [
    "def to_MBPS(seconds: float | list[float]) -> float | list[float]:\n",
    "    if isinstance(seconds, list):\n",
    "        return [1024 / sec for sec in seconds]\n",
    "    return 1024 / seconds"
   ]
  },
  {
   "cell_type": "code",
   "execution_count": 4,
   "id": "2c40207c",
   "metadata": {},
   "outputs": [
    {
     "name": "stdout",
     "output_type": "stream",
     "text": [
      "Encryption Time: [0.450697250002122, 0.40014326000164147, 0.4611077640001895, 0.42400942399763153, 0.41438340500099, 0.41511087999970187, 0.4346058589981112, 0.4082150129979709, 0.42415977000200655, 0.4190370249998523]\n",
      "Throughput MB/s: [2272.0351632835095, 2559.0834642467785, 2220.7390114549867, 2415.04066193991, 2471.1414299941707, 2466.8107952283385, 2356.1578354249714, 2508.4819700276184, 2414.18463612227, 2443.6981433809124]\n"
     ]
    }
   ],
   "source": [
    "from cryptography.hazmat.primitives.ciphers import Cipher, algorithms, modes\n",
    "from cryptography.hazmat.backends import default_backend\n",
    "import timeit\n",
    "\n",
    "key = b\"\\x00\" * 16\n",
    "iv = b\"\\x00\" * 16\n",
    "data = b\"\\x00\" * (1024 * 1024 * 1024)\n",
    "\n",
    "cipher2 = Cipher(algorithms.AES(key), modes.CTR(iv), backend=default_backend())\n",
    "encryptor = cipher2.encryptor()\n",
    "\n",
    "# t1 = timeit.default_timer()\n",
    "exec_time = timeit.repeat(lambda: encryptor.update(data), repeat=10, number=1)\n",
    "# t2 = timeit.default_timer()\n",
    "\n",
    "print(f\"Encryption Time: {exec_time}\")\n",
    "print(f\"Throughput MB/s: {to_MBPS(exec_time)}\")\n"
   ]
  }
 ],
 "metadata": {
  "kernelspec": {
   "display_name": ".venv",
   "language": "python",
   "name": "python3"
  },
  "language_info": {
   "codemirror_mode": {
    "name": "ipython",
    "version": 3
   },
   "file_extension": ".py",
   "mimetype": "text/x-python",
   "name": "python",
   "nbconvert_exporter": "python",
   "pygments_lexer": "ipython3",
   "version": "3.13.5"
  }
 },
 "nbformat": 4,
 "nbformat_minor": 5
}
